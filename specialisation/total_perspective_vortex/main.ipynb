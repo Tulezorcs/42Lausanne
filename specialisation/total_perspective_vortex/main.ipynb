{
 "cells": [
  {
   "cell_type": "code",
   "execution_count": 150,
   "metadata": {},
   "outputs": [],
   "source": [
    "import numpy as np\n",
    "from sklearn.decomposition import PCA\n",
    "import mne\n",
    "import matplotlib.pyplot as plt\n",
    "import numpy as np\n",
    "from sklearn.model_selection import train_test_split\n",
    "from sklearn.ensemble import RandomForestClassifier\n",
    "from sklearn.metrics import accuracy_score\n",
    "from mne import events_from_annotations\n",
    "from mne.decoding import CSP\n",
    "from sklearn.pipeline import make_pipeline\n",
    "from sklearn.linear_model import LogisticRegression\n",
    "from sklearn.preprocessing import StandardScaler\n",
    "from sklearn.model_selection import cross_val_score\n",
    "import numpy as np\n",
    "from sklearn.base import BaseEstimator, TransformerMixin\n",
    "from sklearn.model_selection import StratifiedKFold, cross_val_score\n",
    "from sklearn.pipeline import make_pipeline\n",
    "from sklearn.preprocessing import StandardScaler\n",
    "from sklearn.linear_model import LogisticRegression\n",
    "from sklearn.metrics import make_scorer, accuracy_score\n",
    "# Assuming CSP is imported from its respective library\n",
    "from mne.decoding import CSP  # This is just an example; adjust import as necessary\n",
    "from sklearn.pipeline import Pipeline\n",
    "\n",
    "TASK_1 = [1, 5, 9]\n",
    "TASK_2 = [4, 8, 12]\n",
    "TASK_3 = [5, 9, 13]\n",
    "TASK_4 = [6, 10, 14]\n",
    "\n",
    "SUBJECT = 1\n"
   ]
  },
  {
   "cell_type": "code",
   "execution_count": 151,
   "metadata": {},
   "outputs": [
    {
     "name": "stdout",
     "output_type": "stream",
     "text": [
      "Extracting EDF parameters from /home/jolivier/Documents/42Lausanne/specialisation/total_perspective_vortex/data/physionet.org/files/eegmmidb/1.0.0/S001/S001R01.edf...\n",
      "EDF file detected\n",
      "Setting channel info structure...\n",
      "Creating raw.info structure...\n",
      "Reading 0 ... 9759  =      0.000 ...    60.994 secs...\n",
      "Extracting EDF parameters from /home/jolivier/Documents/42Lausanne/specialisation/total_perspective_vortex/data/physionet.org/files/eegmmidb/1.0.0/S001/S001R06.edf...\n",
      "EDF file detected\n",
      "Setting channel info structure...\n",
      "Creating raw.info structure...\n",
      "Reading 0 ... 19999  =      0.000 ...   124.994 secs...\n",
      "<Info | 8 non-empty values\n",
      " bads: []\n",
      " ch_names: Fc5., Fc3., Fc1., Fcz., Fc2., Fc4., Fc6., C5.., C3.., C1.., ...\n",
      " chs: 64 EEG\n",
      " custom_ref_applied: False\n",
      " highpass: 0.0 Hz\n",
      " lowpass: 80.0 Hz\n",
      " meas_date: 2009-08-12 16:15:00 UTC\n",
      " nchan: 64\n",
      " projs: []\n",
      " sfreq: 160.0 Hz\n",
      " subject_info: 3 items (dict)\n",
      ">\n"
     ]
    }
   ],
   "source": [
    "import mne\n",
    "\n",
    "# Define the path to your dataset\n",
    "data_path = 'data/physionet.org/files/eegmmidb/1.0.0/'\n",
    "subject = 'S001'\n",
    "file_name = 'S001R06.edf'  # Example file name, adjust based on the specific file you want to load\n",
    "\n",
    "\n",
    "full_file_path = f'{data_path}{subject}/{file_name}'\n",
    "raw_baseline = mne.io.read_raw_edf(f'{data_path}{subject}/S001R01.edf', preload=True)\n",
    "raw = mne.io.read_raw_edf(full_file_path, preload=True)\n",
    "print(raw.info)"
   ]
  },
  {
   "cell_type": "code",
   "execution_count": 152,
   "metadata": {},
   "outputs": [
    {
     "name": "stdout",
     "output_type": "stream",
     "text": [
      "Used Annotations descriptions: ['T0', 'T1', 'T2']\n",
      "Times: [    0   672  1328  2000  2656  3328  3984  4656  5312  5984  6640  7312\n",
      "  7968  8640  9296  9968 10624 11296 11952 12624 13280 13952 14608 15280\n",
      " 15936 16608 17264 17936 18592 19264],\n",
      " Event type: [1 3 1 2 1 2 1 3 1 2 1 3 1 3 1 2 1 2 1 3 1 3 1 2 1 2 1 3 1 3],\n",
      " Event id: {'T0': 1, 'T1': 2, 'T2': 3}\n",
      "X_max: 4.2\n"
     ]
    }
   ],
   "source": [
    "\n",
    "def extract_events(raw):\n",
    "\tevents, event_id = mne.events_from_annotations(raw)\n",
    "\treturn events[:, 0], events[:, 2], event_id\n",
    "\n",
    "def calculate_xmax(times, sfreq):\n",
    "\ttime_diff = np.diff(times) / sfreq\n",
    "\tprint(f\"X_max: {np.max(time_diff)}\")\n",
    "\treturn np.max(time_diff)\n",
    "\n",
    "# Rest of the code\n",
    "times, event_type, event_id = extract_events(raw)\n",
    "print(f\"Times: {times},\\n Event type: {event_type},\\n Event id: {event_id}\")\n",
    "\n",
    "x_min = -0.5\n",
    "x_max = calculate_xmax(times, raw.info['sfreq'])"
   ]
  },
  {
   "cell_type": "code",
   "execution_count": 153,
   "metadata": {},
   "outputs": [
    {
     "name": "stdout",
     "output_type": "stream",
     "text": [
      "Extracting EDF parameters from /home/jolivier/Documents/42Lausanne/specialisation/total_perspective_vortex/data/physionet.org/files/eegmmidb/1.0.0/S001/S001R06.edf...\n",
      "EDF file detected\n",
      "Setting channel info structure...\n",
      "Creating raw.info structure...\n",
      "Reading 0 ... 19999  =      0.000 ...   124.994 secs...\n",
      "Used Annotations descriptions: ['T0', 'T1', 'T2']\n",
      "Not setting metadata\n",
      "30 matching events found\n",
      "No baseline correction applied\n",
      "0 projection items activated\n",
      "Using data from preloaded Raw for 30 events and 801 original time points ...\n",
      "1 bad epochs dropped\n",
      "Extracting EDF parameters from /home/jolivier/Documents/42Lausanne/specialisation/total_perspective_vortex/data/physionet.org/files/eegmmidb/1.0.0/S001/S001R01.edf...\n",
      "EDF file detected\n",
      "Setting channel info structure...\n",
      "Creating raw.info structure...\n",
      "Reading 0 ... 9759  =      0.000 ...    60.994 secs...\n",
      "Not setting metadata\n",
      "30 matching events found\n",
      "No baseline correction applied\n",
      "0 projection items activated\n",
      "Using data from preloaded Raw for 30 events and 801 original time points ...\n",
      "2 bad epochs dropped\n"
     ]
    }
   ],
   "source": [
    "tmin = -0.5\n",
    "tmax = 4.5\n",
    "\n",
    "raw = mne.io.read_raw_edf(full_file_path, preload=True)\n",
    "events, _ = mne.events_from_annotations(raw)\n",
    "epochs = mne.Epochs(raw, events, dict(T0=1, T1=2, T2=3), tmin, tmax, proj=True, baseline=None, preload=True)\n",
    "\n",
    "\n",
    "raw_baseline = mne.io.read_raw_edf(f'{data_path}{subject}/S001R01.edf', preload=True)\n",
    "events_baseline = mne.make_fixed_length_events(raw_baseline, id=1, start=0, stop=None, duration=2)\n",
    "epochs_baseline = mne.Epochs(raw_baseline, events_baseline, dict(T0=1), tmin=tmin, tmax=tmax, baseline=None, preload=True)"
   ]
  },
  {
   "cell_type": "code",
   "execution_count": 154,
   "metadata": {},
   "outputs": [
    {
     "name": "stdout",
     "output_type": "stream",
     "text": [
      "Not setting metadata\n",
      "57 matching events found\n",
      "No baseline correction applied\n",
      "Applying baseline correction (mode: mean)\n"
     ]
    },
    {
     "name": "stderr",
     "output_type": "stream",
     "text": [
      "/tmp/ipykernel_139111/2629041331.py:2: RuntimeWarning: Concatenation of Annotations within Epochs is not supported yet. All annotations will be dropped.\n",
      "  epochs = mne.concatenate_epochs([epochs, epochs_baseline])\n"
     ]
    }
   ],
   "source": [
    "#merge the baseline and the main data\n",
    "epochs = mne.concatenate_epochs([epochs, epochs_baseline])\n",
    "epochs = epochs.apply_baseline((None, 0)) # apply a baseline (normalize the data)"
   ]
  },
  {
   "cell_type": "code",
   "execution_count": 164,
   "metadata": {},
   "outputs": [
    {
     "data": {
      "text/html": [
       "<table class=\"table table-hover table-striped table-sm table-responsive small\">\n",
       "    <tr>\n",
       "        <th>Number of events</th>\n",
       "        <td>15</td>\n",
       "    </tr>\n",
       "    <tr>\n",
       "        <th>Events</th>\n",
       "        \n",
       "        <td>T1: 7<br/>T2: 8</td>\n",
       "        \n",
       "    </tr>\n",
       "    <tr>\n",
       "        <th>Time range</th>\n",
       "        <td>-0.500 – 4.500 s</td>\n",
       "    </tr>\n",
       "    <tr>\n",
       "        <th>Baseline</th>\n",
       "        <td>-0.500 – 0.000 s</td>\n",
       "    </tr>\n",
       "</table>"
      ],
      "text/plain": [
       "<EpochsArray |  15 events (all good), -0.5 – 4.5 s, baseline -0.5 – 0 s, ~5.9 MB, data loaded,\n",
       " 'T1': 7\n",
       " 'T2': 8>"
      ]
     },
     "execution_count": 164,
     "metadata": {},
     "output_type": "execute_result"
    }
   ],
   "source": [
    "epochs\n",
    "\n",
    "#filter epoch and keep only T1 and T2\n",
    "epochs = epochs['T1', 'T2']\n",
    "epochs"
   ]
  },
  {
   "cell_type": "code",
   "execution_count": 165,
   "metadata": {},
   "outputs": [
    {
     "name": "stdout",
     "output_type": "stream",
     "text": [
      "Computing rank from data with rank=None\n"
     ]
    },
    {
     "name": "stdout",
     "output_type": "stream",
     "text": [
      "    Using tolerance 0.00071 (2.2e-16 eps * 64 dim * 5e+10  max singular value)\n",
      "    Estimated rank (mag): 64\n",
      "    MAG: rank 64 computed from 64 data channels with 0 projectors\n",
      "Reducing data rank from 64 -> 64\n",
      "Estimating covariance using EMPIRICAL\n",
      "Done.\n",
      "Computing rank from data with rank=None\n",
      "    Using tolerance 0.00034 (2.2e-16 eps * 64 dim * 2.4e+10  max singular value)\n",
      "    Estimated rank (mag): 64\n",
      "    MAG: rank 64 computed from 64 data channels with 0 projectors\n",
      "Reducing data rank from 64 -> 64\n",
      "Estimating covariance using EMPIRICAL\n",
      "Done.\n",
      "Computing rank from data with rank=None\n",
      "    Using tolerance 0.00071 (2.2e-16 eps * 64 dim * 5e+10  max singular value)\n",
      "    Estimated rank (mag): 64\n",
      "    MAG: rank 64 computed from 64 data channels with 0 projectors\n",
      "Reducing data rank from 64 -> 64\n",
      "Estimating covariance using EMPIRICAL\n",
      "Done.\n",
      "Computing rank from data with rank=None\n",
      "    Using tolerance 0.00038 (2.2e-16 eps * 64 dim * 2.7e+10  max singular value)\n",
      "    Estimated rank (mag): 64\n",
      "    MAG: rank 64 computed from 64 data channels with 0 projectors\n",
      "Reducing data rank from 64 -> 64\n",
      "Estimating covariance using EMPIRICAL\n",
      "Done.\n",
      "Computing rank from data with rank=None\n",
      "    Using tolerance 0.00071 (2.2e-16 eps * 64 dim * 5e+10  max singular value)\n",
      "    Estimated rank (mag): 64\n",
      "    MAG: rank 64 computed from 64 data channels with 0 projectors\n",
      "Reducing data rank from 64 -> 64\n",
      "Estimating covariance using EMPIRICAL\n",
      "Done.\n",
      "Computing rank from data with rank=None\n",
      "    Using tolerance 0.00038 (2.2e-16 eps * 64 dim * 2.7e+10  max singular value)\n",
      "    Estimated rank (mag): 64\n",
      "    MAG: rank 64 computed from 64 data channels with 0 projectors\n",
      "Reducing data rank from 64 -> 64\n",
      "Estimating covariance using EMPIRICAL\n",
      "Done.\n",
      "Computing rank from data with rank=None\n",
      "    Using tolerance 0.00043 (2.2e-16 eps * 64 dim * 3e+10  max singular value)\n",
      "    Estimated rank (mag): 64\n",
      "    MAG: rank 64 computed from 64 data channels with 0 projectors\n",
      "Reducing data rank from 64 -> 64\n",
      "Estimating covariance using EMPIRICAL\n",
      "Done.\n",
      "Computing rank from data with rank=None\n",
      "    Using tolerance 0.0004 (2.2e-16 eps * 64 dim * 2.8e+10  max singular value)\n",
      "    Estimated rank (mag): 64\n",
      "    MAG: rank 64 computed from 64 data channels with 0 projectors\n",
      "Reducing data rank from 64 -> 64\n",
      "Estimating covariance using EMPIRICAL\n",
      "Done.\n",
      "Computing rank from data with rank=None\n",
      "    Using tolerance 0.00065 (2.2e-16 eps * 64 dim * 4.6e+10  max singular value)\n",
      "    Estimated rank (mag): 64\n",
      "    MAG: rank 64 computed from 64 data channels with 0 projectors\n",
      "Reducing data rank from 64 -> 64\n",
      "Estimating covariance using EMPIRICAL\n",
      "Done.\n",
      "Computing rank from data with rank=None\n",
      "    Using tolerance 0.0004 (2.2e-16 eps * 64 dim * 2.8e+10  max singular value)\n",
      "    Estimated rank (mag): 64\n",
      "    MAG: rank 64 computed from 64 data channels with 0 projectors\n",
      "Reducing data rank from 64 -> 64\n",
      "Estimating covariance using EMPIRICAL\n",
      "Done.\n"
     ]
    }
   ],
   "source": [
    "labels = epochs.events[:, -1]  # Extracting labels from the epochs\n",
    "\n",
    "# Initialize components\n",
    "csp_transformer = CSP(n_components=8, reg=None, log=True, norm_trace=False)\n",
    "clf = LogisticRegression(random_state=42)\n",
    "\n",
    "# # Create a pipeline with the custom CSP transformer\n",
    "pipe = Pipeline([('CSP', csp_transformer), ('LogisticRegression', clf)]) # Add the scaler here if necessary\n",
    "\n",
    "# # Cross-validation setup\n",
    "cv = StratifiedKFold(n_splits=5, shuffle=True, random_state=42)\n",
    "\n",
    "# # Perform cross-validation\n",
    "scores = cross_val_score(pipe, epochs.get_data(copy=True), labels, cv=cv, n_jobs=1) # Set n_jobs to 1 to avoid multithreading if you encounter problems"
   ]
  },
  {
   "cell_type": "code",
   "execution_count": 166,
   "metadata": {},
   "outputs": [
    {
     "data": {
      "text/plain": [
       "array([0.        , 0.33333333, 0.66666667, 0.33333333, 0.66666667])"
      ]
     },
     "execution_count": 166,
     "metadata": {},
     "output_type": "execute_result"
    }
   ],
   "source": [
    "scores"
   ]
  },
  {
   "cell_type": "code",
   "execution_count": 19,
   "metadata": {},
   "outputs": [
    {
     "name": "stdout",
     "output_type": "stream",
     "text": [
      "(29, 64, 257)\n"
     ]
    },
    {
     "name": "stderr",
     "output_type": "stream",
     "text": [
      "/tmp/ipykernel_139111/1410900900.py:2: FutureWarning: The current default of copy=False will change to copy=True in 1.7. Set the value of copy explicitly to avoid this warning\n",
      "  print(epochs.get_data().shape)\n"
     ]
    }
   ],
   "source": [
    "#shape of data\n",
    "print(epochs.get_data().shape)"
   ]
  },
  {
   "cell_type": "code",
   "execution_count": 23,
   "metadata": {},
   "outputs": [
    {
     "data": {
      "text/plain": [
       "dtype('float64')"
      ]
     },
     "execution_count": 23,
     "metadata": {},
     "output_type": "execute_result"
    }
   ],
   "source": [
    "#check type of data\n",
    "data.dtype"
   ]
  },
  {
   "cell_type": "markdown",
   "metadata": {},
   "source": []
  },
  {
   "cell_type": "code",
   "execution_count": null,
   "metadata": {},
   "outputs": [
    {
     "data": {
      "image/png": "[encoded data removed]",
      "text/plain": [
       "<Figure size 1000x700 with 1 Axes>"
      ]
     },
     "metadata": {},
     "output_type": "display_data"
    }
   ],
   "source": [
    "from sklearn.decomposition import PCA\n",
    "pca = PCA()\n",
    "pca.fit(psds)\n",
    "explained_variance_ratio = pca.explained_variance_ratio_\n",
    "cumulative_explained_variance = np.cumsum(explained_variance_ratio)\n",
    "\n",
    "# Plotting the cumulative explained variance to decide on the number of components\n",
    "plt.figure(figsize=(10, 7))\n",
    "plt.plot(cumulative_explained_variance, marker='o')\n",
    "plt.xlabel('Number of Components')\n",
    "plt.ylabel('Cumulative Explained Variance')\n",
    "plt.title('Cumulative Explained Variance by PCA Components')\n",
    "plt.grid(True)\n",
    "plt.show()\n"
   ]
  },
  {
   "cell_type": "code",
   "execution_count": null,
   "metadata": {},
   "outputs": [
    {
     "name": "stdout",
     "output_type": "stream",
     "text": [
      "Used Annotations descriptions: ['T0']\n"
     ]
    },
    {
     "data": {
      "text/plain": [
       "(array([[0, 0, 1]]), {'T0': 1})"
      ]
     },
     "execution_count": 97,
     "metadata": {},
     "output_type": "execute_result"
    }
   ],
   "source": []
  }
 ],
 "metadata": {
  "kernelspec": {
   "display_name": "total_perspective_vortex",
   "language": "python",
   "name": "python3"
  },
  "language_info": {
   "codemirror_mode": {
    "name": "ipython",
    "version": 3
   },
   "file_extension": ".py",
   "mimetype": "text/x-python",
   "name": "python",
   "nbconvert_exporter": "python",
   "pygments_lexer": "ipython3",
   "version": "3.11.8"
  }
 },
 "nbformat": 4,
 "nbformat_minor": 2
}
